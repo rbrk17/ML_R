{
  "nbformat": 4,
  "nbformat_minor": 0,
  "metadata": {
    "colab": {
      "provenance": [],
      "gpuType": "T4"
    },
    "kernelspec": {
      "name": "python3",
      "display_name": "Python 3"
    },
    "language_info": {
      "name": "python"
    },
    "accelerator": "GPU"
  },
  "cells": [
    {
      "cell_type": "markdown",
      "source": [
        " Rakshana B S RB5118\n",
        "\n",
        "\n",
        "\n",
        " Please note: In the following code assignment, I have replaced the variables as per the homework instructions.\n",
        "- 'B' refers to 'original_badnet'.\n",
        "- 'G' refers to 'RepairedNet'.\n",
        "\n",
        " This naming convention aligns with the instructions for clarity and consistency.\n"
      ],
      "metadata": {
        "id": "QHGmlktNA2Yg"
      }
    },
    {
      "cell_type": "code",
      "execution_count": 1,
      "metadata": {
        "id": "jU0UV6wLURmC"
      },
      "outputs": [],
      "source": [
        "# All necessary imports\n",
        "import os\n",
        "import tarfile\n",
        "import requests\n",
        "import re\n",
        "import sys\n",
        "import warnings\n",
        "warnings.filterwarnings('ignore')\n",
        "import h5py\n",
        "import numpy as np\n",
        "import tensorflow as tf\n",
        "from tensorflow import keras\n",
        "from keras import backend as K\n",
        "from keras.models import Model\n",
        "import matplotlib.pyplot as plt\n",
        "from mpl_toolkits.axes_grid1.inset_locator import inset_axes\n",
        "import matplotlib.font_manager as font_manager\n",
        "import cv2"
      ]
    },
    {
      "cell_type": "code",
      "source": [
        "from google.colab import drive\n",
        "drive.mount('/content/drive')\n",
        "warnings.filterwarnings(\"ignore\")"
      ],
      "metadata": {
        "colab": {
          "base_uri": "https://localhost:8080/"
        },
        "id": "hTfsvw15UVDY",
        "outputId": "32ea21d6-ed0d-40c4-e1c2-5a6ba46b3327"
      },
      "execution_count": 2,
      "outputs": [
        {
          "output_type": "stream",
          "name": "stdout",
          "text": [
            "Mounted at /content/drive\n"
          ]
        }
      ]
    },
    {
      "cell_type": "code",
      "source": [
        "# Load data\n",
        "def load_dataset(file_path):\n",
        "    # Open the file in read mode\n",
        "    dataset = h5py.File(file_path, 'r')\n",
        "    # Extract the 'data' and 'label' elements\n",
        "    images = np.array(dataset['data'])\n",
        "    labels = np.array(dataset['label'])\n",
        "    # Rearrange the dimensions of the image data for processing\n",
        "    images = images.transpose((0,2,3,1))\n",
        "    # Return the image and label data\n",
        "    return images, labels"
      ],
      "metadata": {
        "id": "l5vftW-Kalz7"
      },
      "execution_count": 3,
      "outputs": []
    },
    {
      "cell_type": "code",
      "source": [
        "# Define file paths for the datasets and model files\n",
        "# Path to the clean validation data\n",
        "valid_clean_data_path = '/content/drive/MyDrive/ColabNotebooks/rb5118_backdoor/Lab3/cl/valid.h5'\n",
        "# Path to the clean test data\n",
        "test_clean_data_path = '/content/drive/MyDrive/ColabNotebooks/rb5118_backdoor/Lab3/cl/test.h5'\n",
        "# Path to the poisoned (backdoored) test data\n",
        "test_poisoned_data_path = '/content/drive/MyDrive/ColabNotebooks/rb5118_backdoor/Lab3/bd/bd_test.h5'\n",
        "# Path to the model file (architecture)\n",
        "network_model_path = '/content/drive/MyDrive/ColabNotebooks/rb5118_backdoor/Lab3/models/bd_net.h5'\n",
        "# Path to the model weights\n",
        "network_weights_path = '/content/drive/MyDrive/ColabNotebooks/rb5118_backdoor/Lab3/models/bd_weights.h5'\n"
      ],
      "metadata": {
        "id": "mZgx-KckUWdF"
      },
      "execution_count": 4,
      "outputs": []
    },
    {
      "cell_type": "code",
      "source": [],
      "metadata": {
        "id": "U8oV8WCFrqW-"
      },
      "execution_count": null,
      "outputs": []
    },
    {
      "cell_type": "code",
      "source": [
        "# Load the datasets using the modified data loading function\n",
        "\n",
        "# Load clean validation data\n",
        "cl_valid_images, cl_valid_labels = load_dataset(valid_clean_data_path)\n",
        "\n",
        "# Load clean test data\n",
        "cl_test_images, cl_test_labels = load_dataset(test_clean_data_path)\n",
        "\n",
        "# Load poisoned (backdoored) test data\n",
        "bd_test_images, bd_test_labels = load_dataset(test_poisoned_data_path)"
      ],
      "metadata": {
        "id": "UoYM596pWgzU"
      },
      "execution_count": 5,
      "outputs": []
    },
    {
      "cell_type": "code",
      "source": [
        "from tensorflow import keras\n",
        "\n",
        "# Load the original BadNet model and its weights\n",
        "original_badnet = keras.models.load_model(network_model_path)\n",
        "original_badnet.load_weights(network_weights_path)\n",
        "\n",
        "# Create a clone of the original BadNet model\n",
        "badnet_clone = keras.models.load_model(network_model_path)\n",
        "badnet_clone.load_weights(network_weights_path)\n"
      ],
      "metadata": {
        "id": "wr2WOq_NX99x"
      },
      "execution_count": 6,
      "outputs": []
    },
    {
      "cell_type": "code",
      "source": [
        "\n",
        "from tensorflow.keras import backend as K\n",
        "\n",
        "# Calculate the accuracy of the original BadNet model on clean validation data\n",
        "# Predict labels for clean validation data using the original badnet\n",
        "predicted_labels = np.argmax(original_badnet.predict(cl_valid_images), axis=1)\n",
        "# Calculate the accuracy by comparing the predicted labels with true labels\n",
        "accuracy_clean = np.mean(np.equal(predicted_labels, cl_valid_labels)) * 100\n",
        "\n",
        "# Print the clean validation accuracy before pruning\n",
        "print(\"Clean validation accuracy before pruning: {:.6f}\".format(accuracy_clean))\n",
        "\n",
        "# Clear the Keras session to free up resources\n",
        "K.clear_session()\n"
      ],
      "metadata": {
        "colab": {
          "base_uri": "https://localhost:8080/"
        },
        "id": "7dhWeJlSYf9g",
        "outputId": "a4f0c3a6-08b6-47c8-b165-3937e954eef0"
      },
      "execution_count": 7,
      "outputs": [
        {
          "output_type": "stream",
          "name": "stdout",
          "text": [
            "361/361 [==============================] - 9s 3ms/step\n",
            "Clean validation accuracy before pruning: 98.649000\n"
          ]
        }
      ]
    },
    {
      "cell_type": "code",
      "source": [
        "from tensorflow.keras.models import Model\n",
        "\n",
        "# Redefine the model to output right after the last pooling layer (\"pool_3\")\n",
        "pool3_output_model = Model(inputs=original_badnet.inputs, outputs=original_badnet.get_layer('pool_3').output)\n",
        "\n",
        "# Obtain feature map for the last pooling layer using clean validation data\n",
        "pool3_feature_maps = pool3_output_model.predict(cl_valid_images)\n",
        "\n",
        "# Compute average activation value for each channel in the pooling layer\n",
        "avg_activation_values = np.mean(pool3_feature_maps, axis=(0,1,2))\n",
        "\n",
        "# Sort the indices of the channels based on their average activation values in increasing order\n",
        "channels_for_pruning = np.argsort(avg_activation_values)\n",
        "\n",
        "# Extract weights and biases of the third convolutional layer from the cloned model\n",
        "conv3_weights, conv3_biases = badnet_clone.layers[5].get_weights()\n",
        "\n",
        "# Initialize a variable to track which models have been saved\n",
        "models_saved = np.zeros(3, dtype=bool)\n",
        "\n",
        "# Iterate over each channel index for pruning\n",
        "for channel_index in channels_for_pruning:\n",
        "    # Set the weights and biases of the selected channel to zero (prune the channel)\n",
        "    conv3_weights[:,:,:,channel_index] = 0\n",
        "    conv3_biases[channel_index] = 0\n",
        "\n",
        "    # Update the cloned model with the modified weights and biases\n",
        "    badnet_clone.layers[5].set_weights([conv3_weights, conv3_biases])\n",
        "\n",
        "    # Evaluate the cloned model's accuracy on clean validation data\n",
        "    predicted_labels_valid = np.argmax(badnet_clone.predict(cl_valid_images), axis=1)\n",
        "    current_accuracy_valid = np.mean(np.equal(predicted_labels_valid, cl_valid_labels)) * 100\n",
        "\n",
        "    # Check for accuracy drops at thresholds of 2%, 4%, and 10%, and save the model accordingly\n",
        "    if accuracy_clean - current_accuracy_valid >= 2 and not models_saved[0]:\n",
        "        print(\"The accuracy drops at least 2%, saved the model\")\n",
        "        badnet_clone.save('model_X=2.h5')\n",
        "        models_saved[0] = 1\n",
        "    if accuracy_clean - current_accuracy_valid >= 4 and not models_saved[1]:\n",
        "        print(\"The accuracy drops at least 4%, saved the model\")\n",
        "        badnet_clone.save('model_X=4.h5')\n",
        "        models_saved[1] = 1\n",
        "    if accuracy_clean - current_accuracy_valid >= 10 and not models_saved[2]:\n",
        "        print(\"The accuracy drops at least 10%, saved the model\")\n",
        "        badnet_clone.save('model_X=10.h5')\n",
        "        models_saved[2] = 1\n",
        "        break\n"
      ],
      "metadata": {
        "colab": {
          "base_uri": "https://localhost:8080/"
        },
        "id": "JRV48NWkYmc2",
        "outputId": "b1d0dc53-ec3f-4a4a-8920-5465188d32e7"
      },
      "execution_count": 8,
      "outputs": [
        {
          "output_type": "stream",
          "name": "stdout",
          "text": [
            "361/361 [==============================] - 1s 3ms/step\n",
            "361/361 [==============================] - 1s 3ms/step\n",
            "361/361 [==============================] - 1s 2ms/step\n",
            "361/361 [==============================] - 1s 2ms/step\n",
            "361/361 [==============================] - 1s 2ms/step\n",
            "361/361 [==============================] - 1s 2ms/step\n",
            "361/361 [==============================] - 1s 3ms/step\n",
            "361/361 [==============================] - 1s 2ms/step\n",
            "361/361 [==============================] - 1s 2ms/step\n",
            "361/361 [==============================] - 1s 2ms/step\n",
            "361/361 [==============================] - 1s 2ms/step\n",
            "361/361 [==============================] - 1s 3ms/step\n",
            "361/361 [==============================] - 1s 3ms/step\n",
            "361/361 [==============================] - 1s 2ms/step\n",
            "361/361 [==============================] - 1s 2ms/step\n",
            "361/361 [==============================] - 1s 2ms/step\n",
            "361/361 [==============================] - 1s 2ms/step\n",
            "361/361 [==============================] - 1s 2ms/step\n",
            "361/361 [==============================] - 1s 3ms/step\n",
            "361/361 [==============================] - 1s 3ms/step\n",
            "361/361 [==============================] - 1s 2ms/step\n",
            "361/361 [==============================] - 1s 2ms/step\n",
            "361/361 [==============================] - 2s 6ms/step\n",
            "361/361 [==============================] - 1s 3ms/step\n",
            "361/361 [==============================] - 1s 3ms/step\n",
            "361/361 [==============================] - 1s 2ms/step\n",
            "361/361 [==============================] - 1s 2ms/step\n",
            "361/361 [==============================] - 1s 2ms/step\n",
            "361/361 [==============================] - 1s 2ms/step\n",
            "361/361 [==============================] - 2s 5ms/step\n",
            "361/361 [==============================] - 1s 3ms/step\n",
            "361/361 [==============================] - 1s 2ms/step\n",
            "361/361 [==============================] - 1s 2ms/step\n",
            "361/361 [==============================] - 1s 2ms/step\n",
            "361/361 [==============================] - 1s 2ms/step\n",
            "361/361 [==============================] - 1s 3ms/step\n",
            "361/361 [==============================] - 1s 3ms/step\n",
            "361/361 [==============================] - 1s 2ms/step\n",
            "361/361 [==============================] - 1s 2ms/step\n",
            "361/361 [==============================] - 1s 2ms/step\n",
            "361/361 [==============================] - 1s 2ms/step\n",
            "361/361 [==============================] - 1s 3ms/step\n",
            "361/361 [==============================] - 1s 3ms/step\n",
            "361/361 [==============================] - 1s 2ms/step\n",
            "361/361 [==============================] - 1s 2ms/step\n",
            "361/361 [==============================] - 1s 2ms/step\n",
            "The accuracy drops at least 2%, saved the model\n",
            "361/361 [==============================] - 1s 3ms/step\n",
            "361/361 [==============================] - 1s 3ms/step\n",
            "361/361 [==============================] - 1s 2ms/step\n",
            "The accuracy drops at least 4%, saved the model\n",
            "361/361 [==============================] - 1s 2ms/step\n",
            "361/361 [==============================] - 1s 2ms/step\n",
            "361/361 [==============================] - 1s 2ms/step\n",
            "361/361 [==============================] - 1s 3ms/step\n",
            "The accuracy drops at least 10%, saved the model\n"
          ]
        }
      ]
    },
    {
      "cell_type": "code",
      "source": [
        "import tensorflow as tf\n",
        "import numpy as np\n",
        "\n",
        "class RepairedNet(tf.keras.Model):\n",
        "    def __init__(self, original_net, pruned_net):\n",
        "        super(RepairedNet, self).__init__()\n",
        "        self.original_net = original_net\n",
        "        self.pruned_net = pruned_net\n",
        "\n",
        "    def predict(self, data):\n",
        "        # Predictions from the original and pruned networks\n",
        "        prediction_original = np.argmax(self.original_net(data), axis=1)\n",
        "        prediction_pruned = np.argmax(self.pruned_net(data), axis=1)\n",
        "        # Compare predictions, output original if they match, else output 1283\n",
        "        combined_predictions = np.array([prediction_original[i] if prediction_original[i] == prediction_pruned[i] else 1283 for i in range(prediction_original.shape[0])])\n",
        "        # Convert to categorical format\n",
        "        categorical_output = np.zeros((prediction_original.shape[0], 1284))\n",
        "        categorical_output[np.arange(combined_predictions.size), combined_predictions] = 1\n",
        "        return categorical_output\n",
        "\n",
        "    def call(self, data):\n",
        "        # Similar logic as predict, but used for batch processing and faster execution\n",
        "        prediction_original = np.argmax(self.original_net(data), axis=1)\n",
        "        prediction_pruned = np.argmax(self.pruned_net(data), axis=1)\n",
        "        combined_predictions = np.array([prediction_original[i] if prediction_original[i] == prediction_pruned[i] else 1283 for i in range(prediction_original.shape[0])])\n",
        "        categorical_output = np.zeros((prediction_original.shape[0], 1284))\n",
        "        categorical_output[np.arange(combined_predictions.size), combined_predictions] = 1\n",
        "        return categorical_output\n"
      ],
      "metadata": {
        "id": "8sJxOPE4bLxN"
      },
      "execution_count": 9,
      "outputs": []
    },
    {
      "cell_type": "code",
      "source": [
        "from tensorflow import keras\n",
        "\n",
        "# Define file paths for the B_prime models with different levels of pruning\n",
        "pruned_model_2_path = '/content/model_X=2.h5'\n",
        "pruned_model_4_path = '/content/model_X=4.h5'\n",
        "pruned_model_10_path = '/content/model_X=10.h5'\n",
        "\n",
        "# Load the pruned models corresponding to different pruning thresholds\n",
        "pruned_net_2_percent = keras.models.load_model(pruned_model_2_path)\n",
        "pruned_net_4_percent = keras.models.load_model(pruned_model_4_path)\n",
        "pruned_net_10_percent = keras.models.load_model(pruned_model_10_path)\n"
      ],
      "metadata": {
        "id": "3lQKg6YnbPM3"
      },
      "execution_count": 10,
      "outputs": []
    },
    {
      "cell_type": "code",
      "source": [
        "# Evaluate the B_prime model with 2% threshold on clean and backdoored test data\n",
        "\n",
        "# Predict and calculate accuracy on clean test data using B_prime model (2% threshold)\n",
        "predicted_labels_clean_2 = np.argmax(pruned_net_2_percent.predict(cl_test_images), axis=1)\n",
        "accuracy_clean_2 = np.mean(np.equal(predicted_labels_clean_2, cl_test_labels)) * 100\n",
        "print('Clean Classification accuracy for B_prime with 2% pruning:', accuracy_clean_2)\n",
        "\n",
        "# Predict and calculate the attack success rate on backdoored test data using B_prime model (2% threshold)\n",
        "predicted_labels_bd_2 = np.argmax(pruned_net_2_percent.predict(bd_test_images), axis=1)\n",
        "attack_success_rate_2 = np.mean(np.equal(predicted_labels_bd_2, bd_test_labels)) * 100\n",
        "print('Attack Success Rate for B_prime with 2% pruning:', attack_success_rate_2)\n"
      ],
      "metadata": {
        "colab": {
          "base_uri": "https://localhost:8080/"
        },
        "id": "Fh-8R_u2bUR8",
        "outputId": "6f8abfbe-5a61-4ae4-99b6-68496828d262"
      },
      "execution_count": 11,
      "outputs": [
        {
          "output_type": "stream",
          "name": "stdout",
          "text": [
            "401/401 [==============================] - 1s 3ms/step\n",
            "Clean Classification accuracy for B_prime with 2% pruning: 95.90023382696803\n",
            "401/401 [==============================] - 1s 2ms/step\n",
            "Attack Success Rate for B_prime with 2% pruning: 100.0\n"
          ]
        }
      ]
    },
    {
      "cell_type": "code",
      "source": [
        "# Evaluate the B_prime model with 4% threshold on clean and backdoored test data\n",
        "\n",
        "# Predict and calculate accuracy on clean test data using B_prime model (4% threshold)\n",
        "predicted_labels_clean_4 = np.argmax(pruned_net_4_percent.predict(cl_test_images), axis=1)\n",
        "accuracy_clean_4 = np.mean(np.equal(predicted_labels_clean_4, cl_test_labels)) * 100\n",
        "print('Clean Classification accuracy for B_prime with 4% pruning:', accuracy_clean_4)\n",
        "\n",
        "# Predict and calculate the attack success rate on backdoored test data using B_prime model (4% threshold)\n",
        "predicted_labels_bd_4 = np.argmax(pruned_net_4_percent.predict(bd_test_images), axis=1)\n",
        "attack_success_rate_4 = np.mean(np.equal(predicted_labels_bd_4, bd_test_labels)) * 100\n",
        "print('Attack Success Rate for B_prime with 4% pruning:', attack_success_rate_4)\n"
      ],
      "metadata": {
        "colab": {
          "base_uri": "https://localhost:8080/"
        },
        "id": "zo3eLVYDbV-R",
        "outputId": "75229f0d-d380-49ef-f8f9-b68b0a94a4d3"
      },
      "execution_count": 12,
      "outputs": [
        {
          "output_type": "stream",
          "name": "stdout",
          "text": [
            "401/401 [==============================] - 1s 2ms/step\n",
            "Clean Classification accuracy for B_prime with 4% pruning: 92.29150428682775\n",
            "401/401 [==============================] - 1s 2ms/step\n",
            "Attack Success Rate for B_prime with 4% pruning: 99.98441153546376\n"
          ]
        }
      ]
    },
    {
      "cell_type": "code",
      "source": [
        "# Evaluate the B_prime model with 10% threshold on clean and backdoored test data\n",
        "\n",
        "# Predict and calculate accuracy on clean test data using B_prime model (10% threshold)\n",
        "predicted_labels_clean_10 = np.argmax(pruned_net_10_percent.predict(cl_test_images), axis=1)\n",
        "accuracy_clean_10 = np.mean(np.equal(predicted_labels_clean_10, cl_test_labels)) * 100\n",
        "print('Clean Classification accuracy for B_prime with 10% pruning:', accuracy_clean_10)\n",
        "\n",
        "# Predict and calculate the attack success rate on backdoored test data using B_prime model (10% threshold)\n",
        "predicted_labels_bd_10 = np.argmax(pruned_net_10_percent.predict(bd_test_images), axis=1)\n",
        "attack_success_rate_10 = np.mean(np.equal(predicted_labels_bd_10, bd_test_labels)) * 100\n",
        "print('Attack Success Rate for B_prime with 10% pruning:', attack_success_rate_10)\n"
      ],
      "metadata": {
        "colab": {
          "base_uri": "https://localhost:8080/"
        },
        "id": "ypU-hhBJbXm6",
        "outputId": "ca2e8cea-aedf-4982-dba6-1d03a7f6666d"
      },
      "execution_count": 13,
      "outputs": [
        {
          "output_type": "stream",
          "name": "stdout",
          "text": [
            "401/401 [==============================] - 1s 2ms/step\n",
            "Clean Classification accuracy for B_prime with 10% pruning: 84.54403741231489\n",
            "401/401 [==============================] - 1s 2ms/step\n",
            "Attack Success Rate for B_prime with 10% pruning: 77.20966484801247\n"
          ]
        }
      ]
    },
    {
      "cell_type": "code",
      "source": [
        "# Evaluate the original BadNet model B on clean and backdoored test data\n",
        "\n",
        "# Predict and calculate accuracy on clean test data using the original BadNet model B\n",
        "predicted_labels_clean_B = np.argmax(original_badnet.predict(cl_test_images), axis=1)\n",
        "accuracy_clean_B = np.mean(np.equal(predicted_labels_clean_B, cl_test_labels)) * 100\n",
        "print('Clean Classification accuracy for original BadNet (B):', accuracy_clean_B)\n",
        "\n",
        "# Predict and calculate the attack success rate on backdoored test data using the original BadNet model B\n",
        "predicted_labels_bd_B = np.argmax(original_badnet.predict(bd_test_images), axis=1)\n",
        "attack_success_rate_B = np.mean(np.equal(predicted_labels_bd_B, bd_test_labels)) * 100\n",
        "print('Attack Success Rate for original BadNet (B):', attack_success_rate_B)\n"
      ],
      "metadata": {
        "colab": {
          "base_uri": "https://localhost:8080/"
        },
        "id": "okGwi0PfbZfd",
        "outputId": "69000d89-7d64-480a-a121-6afe4d0e6959"
      },
      "execution_count": 14,
      "outputs": [
        {
          "output_type": "stream",
          "name": "stdout",
          "text": [
            "401/401 [==============================] - 1s 3ms/step\n",
            "Clean Classification accuracy for original BadNet (B): 98.62042088854248\n",
            "401/401 [==============================] - 1s 2ms/step\n",
            "Attack Success Rate for original BadNet (B): 100.0\n"
          ]
        }
      ]
    },
    {
      "cell_type": "code",
      "source": [
        "# Repaired network repaired_net\n",
        "repaired_net_2 = RepairedNet(original_badnet, pruned_net_2_percent)\n",
        "repaired_net_4 = RepairedNet(original_badnet, pruned_net_4_percent)\n",
        "repaired_net_10 = RepairedNet(original_badnet, pruned_net_10_percent)"
      ],
      "metadata": {
        "id": "fEsTrYaIbbDa"
      },
      "execution_count": 15,
      "outputs": []
    },
    {
      "cell_type": "code",
      "source": [],
      "metadata": {
        "id": "2VyX96bDbc3n"
      },
      "execution_count": null,
      "outputs": []
    },
    {
      "cell_type": "code",
      "source": [
        "# Evaluate the repaired network with a threshold of >=2\n",
        "\n",
        "# Predict and calculate accuracy on clean test data using repaired network (threshold >=2)\n",
        "predicted_labels_clean_repaired_2 = np.argmax(repaired_net_2(cl_test_images), axis=1)\n",
        "accuracy_clean_repaired_2 = np.mean(np.equal(predicted_labels_clean_repaired_2, cl_test_labels)) * 100\n",
        "print('Clean Classification accuracy for repaired network (threshold >=2):', accuracy_clean_repaired_2)\n",
        "\n",
        "# Predict and calculate the attack success rate on poisoned (backdoored) test data using repaired network (threshold >=2)\n",
        "predicted_labels_bd_repaired_2 = np.argmax(repaired_net_2(bd_test_images), axis=1)\n",
        "attack_success_rate_repaired_2 = np.mean(np.equal(predicted_labels_bd_repaired_2, bd_test_labels)) * 100\n",
        "print('Attack Success Rate for repaired network (threshold >=2):', attack_success_rate_repaired_2)\n"
      ],
      "metadata": {
        "colab": {
          "base_uri": "https://localhost:8080/"
        },
        "id": "qPoyW5Yr7OpH",
        "outputId": "2de81d1b-68b9-4c1c-9e18-1a76b36b094a"
      },
      "execution_count": 17,
      "outputs": [
        {
          "output_type": "stream",
          "name": "stdout",
          "text": [
            "Clean Classification accuracy for repaired network (threshold >=2): 95.74434918160561\n",
            "Attack Success Rate for repaired network (threshold >=2): 100.0\n"
          ]
        }
      ]
    },
    {
      "cell_type": "code",
      "source": [
        "# Evaluate the repaired network with a threshold of >=4\n",
        "\n",
        "# Predict and calculate accuracy on clean test data using repaired network (threshold >=4)\n",
        "predicted_labels_clean_repaired_4 = np.argmax(repaired_net_4(cl_test_images), axis=1)\n",
        "clean_accuracy_repaired_4 = np.mean(np.equal(predicted_labels_clean_repaired_4, cl_test_labels)) * 100\n",
        "print('Clean Classification accuracy for repaired network (threshold >=4):', clean_accuracy_repaired_4)\n",
        "\n",
        "# Predict and calculate the attack success rate on poisoned (backdoored) test data using repaired network (threshold >=4)\n",
        "predicted_labels_bd_repaired_4 = np.argmax(repaired_net_4(bd_test_images), axis=1)\n",
        "attack_success_rate_repaired_4 = np.mean(np.equal(predicted_labels_bd_repaired_4, bd_test_labels)) * 100\n",
        "print('Attack Success Rate for repaired network (threshold >=4):', attack_success_rate_repaired_4)\n"
      ],
      "metadata": {
        "colab": {
          "base_uri": "https://localhost:8080/"
        },
        "id": "DqXCYHwkbeVH",
        "outputId": "9d98ee5d-b2b0-4c12-fb74-7517b1d362d7"
      },
      "execution_count": 19,
      "outputs": [
        {
          "output_type": "stream",
          "name": "stdout",
          "text": [
            "Clean Classification accuracy for repaired network (threshold >=4): 92.1278254091972\n",
            "Attack Success Rate for repaired network (threshold >=4): 99.98441153546376\n"
          ]
        }
      ]
    },
    {
      "cell_type": "code",
      "source": [
        "# Evaluate the repaired network with a threshold of >=10\n",
        "\n",
        "# Predict and calculate accuracy on clean test data using repaired network (threshold >=10)\n",
        "predicted_labels_clean_repaired_10 = np.argmax(repaired_net_10(cl_test_images), axis=1)\n",
        "clean_accuracy_repaired_10 = np.mean(np.equal(predicted_labels_clean_repaired_10, cl_test_labels)) * 100\n",
        "print('Clean Classification accuracy for repaired network (threshold >=10):', clean_accuracy_repaired_10)\n",
        "\n",
        "# Predict and calculate the attack success rate on poisoned (backdoored) test data using repaired network (threshold >=10)\n",
        "predicted_labels_bd_repaired_10 = np.argmax(repaired_net_10(bd_test_images), axis=1)\n",
        "attack_success_rate_repaired_10 = np.mean(np.equal(predicted_labels_bd_repaired_10, bd_test_labels)) * 100\n",
        "print('Attack Success Rate for repaired network (threshold >=10):', attack_success_rate_repaired_10)\n"
      ],
      "metadata": {
        "colab": {
          "base_uri": "https://localhost:8080/"
        },
        "id": "AufiUkfLbgDW",
        "outputId": "8072555b-1dfd-4722-a9e9-7e6fa18b060c"
      },
      "execution_count": 20,
      "outputs": [
        {
          "output_type": "stream",
          "name": "stdout",
          "text": [
            "Clean Classification accuracy for repaired network (threshold >=10): 84.3335931410756\n",
            "Attack Success Rate for repaired network (threshold >=10): 77.20966484801247\n"
          ]
        }
      ]
    },
    {
      "cell_type": "code",
      "source": [],
      "metadata": {
        "id": "EcncnxHubhiy"
      },
      "execution_count": null,
      "outputs": []
    },
    {
      "cell_type": "code",
      "source": [
        "from tabulate import tabulate\n",
        "\n",
        "# Define the data and headers for the table\n",
        "data = [\n",
        "    [\"2% repaired\", accuracy_clean_repaired_2, attack_success_rate_repaired_2],\n",
        "    [\"4% repaired\", clean_accuracy_repaired_4, attack_success_rate_repaired_4],\n",
        "    [\"10% repaired\", clean_accuracy_repaired_10, attack_success_rate_repaired_10]\n",
        "]\n",
        "\n",
        "head = [\"Model\", \"Repaired Clean Accuracy\", \"Attack Success Rate\"]\n",
        "\n",
        "# Create a function to format cell values with color based on thresholds\n",
        "def colorize(val, threshold):\n",
        "    if val >= threshold:\n",
        "        return f\"\\033[92m{val}\\033[0m\"  # Green color for values above threshold\n",
        "    else:\n",
        "        return f\"\\033[91m{val}\\033[0m\"  # Red color for values below threshold\n",
        "\n",
        "# Apply the colorize function to format cell values\n",
        "table_data = [[item[0], colorize(item[1], 95), colorize(item[2], 5)] for item in data]\n",
        "\n",
        "# Create the table with a different style (fancy_grid)\n",
        "table = tabulate(table_data, headers=head, tablefmt=\"fancy_grid\")\n",
        "\n",
        "# Print the table\n",
        "print(table)\n"
      ],
      "metadata": {
        "colab": {
          "base_uri": "https://localhost:8080/"
        },
        "id": "QdvWgMZb8-Tw",
        "outputId": "8d55dce3-26bd-417e-df34-88ee49a96905"
      },
      "execution_count": 23,
      "outputs": [
        {
          "output_type": "stream",
          "name": "stdout",
          "text": [
            "╒══════════════╤═══════════════════════════╤═══════════════════════╕\n",
            "│ Model        │   Repaired Clean Accuracy │   Attack Success Rate │\n",
            "╞══════════════╪═══════════════════════════╪═══════════════════════╡\n",
            "│ 2% repaired  │                   \u001b[92m95.7443\u001b[0m │              \u001b[92m100\u001b[0m      │\n",
            "├──────────────┼───────────────────────────┼───────────────────────┤\n",
            "│ 4% repaired  │                   \u001b[91m92.1278\u001b[0m │               \u001b[92m99.9844\u001b[0m │\n",
            "├──────────────┼───────────────────────────┼───────────────────────┤\n",
            "│ 10% repaired │                   \u001b[91m84.3336\u001b[0m │               \u001b[92m77.2097\u001b[0m │\n",
            "╘══════════════╧═══════════════════════════╧═══════════════════════╛\n"
          ]
        }
      ]
    },
    {
      "cell_type": "code",
      "source": [
        "import matplotlib.pyplot as plt\n",
        "\n",
        "# Define the data and labels\n",
        "models = [\"2% repaired\", \"4% repaired\", \"10% repaired\"]\n",
        "clean_accuracy = [accuracy_clean_repaired_2, clean_accuracy_repaired_4, clean_accuracy_repaired_10]\n",
        "attack_success_rate = [attack_success_rate_repaired_2, attack_success_rate_repaired_4, attack_success_rate_repaired_10]\n",
        "\n",
        "# Create subplots\n",
        "fig, ax = plt.subplots()\n",
        "\n",
        "# Set the width of the bars\n",
        "bar_width = 0.35\n",
        "index = range(len(models))\n",
        "\n",
        "# Create bar plots for clean accuracy and attack success rate\n",
        "bar1 = ax.bar(index, clean_accuracy, bar_width, label='Clean Accuracy', color='g', alpha=0.7)\n",
        "bar2 = ax.bar(index, attack_success_rate, bar_width, label='Attack Success Rate', color='r', alpha=0.7, hatch='//')\n",
        "\n",
        "# Set the x-axis labels\n",
        "ax.set_xticks([i + bar_width/2 for i in index])\n",
        "ax.set_xticklabels(models)\n",
        "\n",
        "# Set labels and title\n",
        "ax.set_xlabel('Models')\n",
        "ax.set_ylabel('Percentage (%)')\n",
        "ax.set_title('Repaired Network Evaluation')\n",
        "\n",
        "# Add legends\n",
        "ax.legend()\n",
        "\n",
        "# Display the graph\n",
        "plt.tight_layout()\n",
        "plt.show()\n"
      ],
      "metadata": {
        "id": "h6QB4TgYbmSF",
        "colab": {
          "base_uri": "https://localhost:8080/",
          "height": 487
        },
        "outputId": "ccf7f010-3dce-42ae-8e9b-36c977859640"
      },
      "execution_count": 24,
      "outputs": [
        {
          "output_type": "display_data",
          "data": {
            "text/plain": [
              "<Figure size 640x480 with 1 Axes>"
            ],
            "image/png": "[encoded data removed]"
          },
          "metadata": {}
        }
      ]
    }
  ]
}